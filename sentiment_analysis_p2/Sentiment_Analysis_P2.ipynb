{
 "cells": [
  {
   "cell_type": "markdown",
   "metadata": {},
   "source": [
    "# Sentiment Analysis\n",
    "\n",
    "## Part 2: Keras & LSTM\n",
    "\n",
    "Use Keras to build a neural network as well as the LSTM."
   ]
  },
  {
   "cell_type": "code",
   "execution_count": 1,
   "metadata": {},
   "outputs": [
    {
     "name": "stderr",
     "output_type": "stream",
     "text": [
      "Using TensorFlow backend.\n"
     ]
    }
   ],
   "source": [
    "from ml_utils import *"
   ]
  },
  {
   "cell_type": "markdown",
   "metadata": {},
   "source": [
    "### LSTM"
   ]
  },
  {
   "cell_type": "code",
   "execution_count": 7,
   "metadata": {},
   "outputs": [],
   "source": [
    "import numpy as np\n",
    "from keras.models import Model, Sequential\n",
    "from keras.layers import Dense, Input, Dropout, LSTM, Activation\n",
    "from keras.preprocessing import sequence\n",
    "from keras.initializers import glorot_uniform\n",
    "\n",
    "np.random.seed(1)"
   ]
  },
  {
   "cell_type": "code",
   "execution_count": 19,
   "metadata": {},
   "outputs": [],
   "source": [
    "word_to_index, index_to_word, word_to_vec_map = read_glove_vecs('data/glove.6B.50d.txt')"
   ]
  },
  {
   "cell_type": "markdown",
   "metadata": {},
   "source": [
    "3 dictionaries are loaded:\n",
    "\n",
    "- `word_to_index`: dictionary mapping from words to their indices in the vocabulary (400,001 words, with the valid indices ranging from 0 to 400,000).\n",
    "- `index_to_word`: dictionary mapping from indices to their corresponding words in the vocabulary.\n",
    "- `word_to_vec_map`: dictionary mapping words to their GloVe vector representation.\n",
    "\n",
    "The reason we need `word_to_index` is that when adding a custom embedding layer in Keras, we can only load the pretrained embedding as a matrix instead of a dictionary. A index will help us find the correct entry for a given word."
   ]
  },
  {
   "cell_type": "markdown",
   "metadata": {},
   "source": [
    "#### Embedding Layer\n",
    "\n",
    "We need to build a embedding matrix where each row represent a word vector."
   ]
  },
  {
   "cell_type": "code",
   "execution_count": 18,
   "metadata": {},
   "outputs": [],
   "source": [
    "from keras.layers import Embedding\n",
    "\n",
    "# A \"layer factory\" method to generate an embedding layer given word_to_vec mapping and word_to_index mapping\n",
    "def pretrained_embedding_layer(word_to_vec_map, word_to_index):\n",
    "    \n",
    "    vocab_len = len(word_to_index) + 1  # Kears required index starting from 1\n",
    "    emb_dim = word_to_vec_map[\"a\"].shape[0]\n",
    "    \n",
    "    # Build the embedding matrix\n",
    "    emb_matrix = np.zeros((vocab_len, emb_dim))\n",
    "    for word, index in word_to_index.items():\n",
    "        emb_matrix[index, :] = word_to_vec_map[word]\n",
    "\n",
    "    # Return the embedding layer\n",
    "    return Embedding(\n",
    "        input_dim=vocab_len, \n",
    "        output_dim=emb_dim, \n",
    "        trainable=False,  # Indicating this is a pre-trained embedding \n",
    "        weights=[emb_matrix])"
   ]
  },
  {
   "cell_type": "markdown",
   "metadata": {},
   "source": [
    "### IMDB Dataset"
   ]
  },
  {
   "cell_type": "code",
   "execution_count": 3,
   "metadata": {},
   "outputs": [],
   "source": [
    "from keras.preprocessing import sequence\n",
    "from keras.datasets import imdb"
   ]
  },
  {
   "cell_type": "code",
   "execution_count": 4,
   "metadata": {},
   "outputs": [
    {
     "name": "stdout",
     "output_type": "stream",
     "text": [
      "Loading data...\n",
      "25000 train sequences\n",
      "25000 test sequences\n"
     ]
    }
   ],
   "source": [
    "print('Loading data...')\n",
    "(x_train, y_train), (x_test, y_test) = imdb.load_data(num_words=20000)\n",
    "print(len(x_train), 'train sequences')\n",
    "print(len(x_test), 'test sequences')"
   ]
  },
  {
   "cell_type": "code",
   "execution_count": 5,
   "metadata": {},
   "outputs": [
    {
     "data": {
      "text/plain": [
       "(25000, 80)"
      ]
     },
     "execution_count": 5,
     "metadata": {},
     "output_type": "execute_result"
    }
   ],
   "source": [
    "# Pad sequences\n",
    "x_train = sequence.pad_sequences(x_train, maxlen=80)\n",
    "x_test = sequence.pad_sequences(x_test, maxlen=80)\n",
    "x_train.shape"
   ]
  },
  {
   "cell_type": "code",
   "execution_count": 8,
   "metadata": {},
   "outputs": [],
   "source": [
    "model = Sequential()\n",
    "model.add(Embedding(20000, 128))\n",
    "model.add(LSTM(128, dropout=0.2, recurrent_dropout=0.2))\n",
    "model.add(Dense(1, activation='sigmoid'))"
   ]
  },
  {
   "cell_type": "code",
   "execution_count": 9,
   "metadata": {},
   "outputs": [
    {
     "name": "stdout",
     "output_type": "stream",
     "text": [
      "_________________________________________________________________\n",
      "Layer (type)                 Output Shape              Param #   \n",
      "=================================================================\n",
      "embedding_2 (Embedding)      (None, None, 128)         2560000   \n",
      "_________________________________________________________________\n",
      "lstm_1 (LSTM)                (None, 128)               131584    \n",
      "_________________________________________________________________\n",
      "dense_1 (Dense)              (None, 1)                 129       \n",
      "=================================================================\n",
      "Total params: 2,691,713\n",
      "Trainable params: 2,691,713\n",
      "Non-trainable params: 0\n",
      "_________________________________________________________________\n"
     ]
    }
   ],
   "source": [
    "model.summary()"
   ]
  },
  {
   "cell_type": "code",
   "execution_count": 10,
   "metadata": {},
   "outputs": [],
   "source": [
    "model.compile(loss='binary_crossentropy',optimizer='adam',metrics=['accuracy'])"
   ]
  },
  {
   "cell_type": "code",
   "execution_count": 11,
   "metadata": {},
   "outputs": [
    {
     "name": "stdout",
     "output_type": "stream",
     "text": [
      "Train on 25000 samples, validate on 25000 samples\n",
      "Epoch 1/15\n",
      "25000/25000 [==============================] - 138s 6ms/step - loss: 0.4588 - acc: 0.7848 - val_loss: 0.4185 - val_acc: 0.8104\n",
      "Epoch 2/15\n",
      "25000/25000 [==============================] - 157s 6ms/step - loss: 0.2898 - acc: 0.8826 - val_loss: 0.3773 - val_acc: 0.8392\n",
      "Epoch 3/15\n",
      "25000/25000 [==============================] - 140s 6ms/step - loss: 0.2059 - acc: 0.9218 - val_loss: 0.4352 - val_acc: 0.8218\n",
      "Epoch 4/15\n",
      "25000/25000 [==============================] - 150s 6ms/step - loss: 0.1426 - acc: 0.9468 - val_loss: 0.5280 - val_acc: 0.8297\n",
      "Epoch 5/15\n",
      "25000/25000 [==============================] - 150s 6ms/step - loss: 0.1026 - acc: 0.9628 - val_loss: 0.7309 - val_acc: 0.7991\n",
      "Epoch 6/15\n",
      "25000/25000 [==============================] - 153s 6ms/step - loss: 0.0785 - acc: 0.9734 - val_loss: 0.6388 - val_acc: 0.8235\n",
      "Epoch 7/15\n",
      "25000/25000 [==============================] - 147s 6ms/step - loss: 0.0525 - acc: 0.9826 - val_loss: 0.7503 - val_acc: 0.8128\n",
      "Epoch 8/15\n",
      "25000/25000 [==============================] - 159s 6ms/step - loss: 0.0405 - acc: 0.9856 - val_loss: 0.9758 - val_acc: 0.8015\n",
      "Epoch 9/15\n",
      "25000/25000 [==============================] - 152s 6ms/step - loss: 0.0366 - acc: 0.9874 - val_loss: 0.7967 - val_acc: 0.8170\n",
      "Epoch 10/15\n",
      "25000/25000 [==============================] - 147s 6ms/step - loss: 0.0227 - acc: 0.9929 - val_loss: 1.0064 - val_acc: 0.8102\n",
      "Epoch 11/15\n",
      "25000/25000 [==============================] - 163s 7ms/step - loss: 0.0208 - acc: 0.9933 - val_loss: 1.0194 - val_acc: 0.8128\n",
      "Epoch 12/15\n",
      "25000/25000 [==============================] - 151s 6ms/step - loss: 0.0184 - acc: 0.9939 - val_loss: 1.0743 - val_acc: 0.8132\n",
      "Epoch 13/15\n",
      "25000/25000 [==============================] - 154s 6ms/step - loss: 0.0159 - acc: 0.9953 - val_loss: 1.1457 - val_acc: 0.8078\n",
      "Epoch 14/15\n",
      "25000/25000 [==============================] - 157s 6ms/step - loss: 0.0111 - acc: 0.9960 - val_loss: 1.1297 - val_acc: 0.8125\n",
      "Epoch 15/15\n",
      "25000/25000 [==============================] - 154s 6ms/step - loss: 0.0122 - acc: 0.9961 - val_loss: 1.0907 - val_acc: 0.8129\n"
     ]
    },
    {
     "data": {
      "text/plain": [
       "<keras.callbacks.History at 0x214cc2045c0>"
      ]
     },
     "execution_count": 11,
     "metadata": {},
     "output_type": "execute_result"
    }
   ],
   "source": [
    "batch_size = 32\n",
    "\n",
    "model.fit(x_train, \n",
    "          y_train,\n",
    "          batch_size=batch_size,\n",
    "          epochs=15,\n",
    "          validation_data=(x_test, y_test))"
   ]
  },
  {
   "cell_type": "code",
   "execution_count": 20,
   "metadata": {},
   "outputs": [],
   "source": [
    "# Save model structure\n",
    "with open(\"imdb_model.json\", \"w\") as fp:\n",
    "    fp.write(model.to_json())\n",
    "\n",
    "# Save model weights\n",
    "model.save_weights(\"imdb_model.h5\")"
   ]
  },
  {
   "cell_type": "markdown",
   "metadata": {},
   "source": [
    "### Next Steps:\n",
    "\n",
    "- Use the pre-trained model to replace the Embedding layer and train the model for 30 epochs.\n",
    "- Collect the training history data\n",
    "- Plot the accuracy and loss\n",
    "- Find the best epoch number to stop traning"
   ]
  },
  {
   "cell_type": "code",
   "execution_count": 21,
   "metadata": {},
   "outputs": [],
   "source": [
    "model2 = Sequential()\n",
    "model2.add(pretrained_embedding_layer(word_to_vec_map, word_to_index))\n",
    "model2.add(LSTM(128, dropout=0.3, recurrent_dropout=0.2))\n",
    "model2.add(Dense(1, activation='sigmoid'))"
   ]
  },
  {
   "cell_type": "code",
   "execution_count": 22,
   "metadata": {},
   "outputs": [
    {
     "name": "stdout",
     "output_type": "stream",
     "text": [
      "_________________________________________________________________\n",
      "Layer (type)                 Output Shape              Param #   \n",
      "=================================================================\n",
      "embedding_2 (Embedding)      (None, None, 128)         2560000   \n",
      "_________________________________________________________________\n",
      "lstm_1 (LSTM)                (None, 128)               131584    \n",
      "_________________________________________________________________\n",
      "dense_1 (Dense)              (None, 1)                 129       \n",
      "=================================================================\n",
      "Total params: 2,691,713\n",
      "Trainable params: 2,691,713\n",
      "Non-trainable params: 0\n",
      "_________________________________________________________________\n"
     ]
    }
   ],
   "source": [
    "model.summary()"
   ]
  },
  {
   "cell_type": "code",
   "execution_count": 23,
   "metadata": {},
   "outputs": [],
   "source": [
    "model2.compile(loss='binary_crossentropy',optimizer='adam', metrics=['accuracy'])"
   ]
  },
  {
   "cell_type": "code",
   "execution_count": 24,
   "metadata": {},
   "outputs": [
    {
     "name": "stdout",
     "output_type": "stream",
     "text": [
      "Train on 25000 samples, validate on 25000 samples\n",
      "Epoch 1/30\n",
      "25000/25000 [==============================] - 80s 3ms/step - loss: 0.6791 - acc: 0.5606 - val_loss: 0.6610 - val_acc: 0.5971\n",
      "Epoch 2/30\n",
      "25000/25000 [==============================] - 93s 4ms/step - loss: 0.6545 - acc: 0.5957 - val_loss: 0.6293 - val_acc: 0.6179\n",
      "Epoch 3/30\n",
      "25000/25000 [==============================] - 94s 4ms/step - loss: 0.6264 - acc: 0.6226 - val_loss: 0.6073 - val_acc: 0.6491\n",
      "Epoch 4/30\n",
      "25000/25000 [==============================] - 103s 4ms/step - loss: 0.6070 - acc: 0.6487 - val_loss: 0.5846 - val_acc: 0.6720\n",
      "Epoch 5/30\n",
      "25000/25000 [==============================] - 95s 4ms/step - loss: 0.5859 - acc: 0.6725 - val_loss: 0.5924 - val_acc: 0.6607\n",
      "Epoch 6/30\n",
      "25000/25000 [==============================] - 108s 4ms/step - loss: 0.5728 - acc: 0.6854 - val_loss: 0.5609 - val_acc: 0.6943\n",
      "Epoch 7/30\n",
      "25000/25000 [==============================] - 94s 4ms/step - loss: 0.5582 - acc: 0.6975 - val_loss: 0.5480 - val_acc: 0.7101\n",
      "Epoch 8/30\n",
      "25000/25000 [==============================] - 90s 4ms/step - loss: 0.5464 - acc: 0.7094 - val_loss: 0.5457 - val_acc: 0.7069\n",
      "Epoch 9/30\n",
      "25000/25000 [==============================] - 91s 4ms/step - loss: 0.5334 - acc: 0.7177 - val_loss: 0.5292 - val_acc: 0.7220\n",
      "Epoch 10/30\n",
      "25000/25000 [==============================] - 96s 4ms/step - loss: 0.5197 - acc: 0.7299 - val_loss: 0.5476 - val_acc: 0.7122\n",
      "Epoch 11/30\n",
      "25000/25000 [==============================] - 97s 4ms/step - loss: 0.5098 - acc: 0.7363 - val_loss: 0.5198 - val_acc: 0.7341\n",
      "Epoch 12/30\n",
      "25000/25000 [==============================] - 95s 4ms/step - loss: 0.5023 - acc: 0.7421 - val_loss: 0.5205 - val_acc: 0.7315\n",
      "Epoch 13/30\n",
      "25000/25000 [==============================] - 95s 4ms/step - loss: 0.4935 - acc: 0.7494 - val_loss: 0.5064 - val_acc: 0.7444\n",
      "Epoch 14/30\n",
      "25000/25000 [==============================] - 94s 4ms/step - loss: 0.4827 - acc: 0.7598 - val_loss: 0.5095 - val_acc: 0.7474\n",
      "Epoch 15/30\n",
      "25000/25000 [==============================] - 103s 4ms/step - loss: 0.4774 - acc: 0.7590 - val_loss: 0.5033 - val_acc: 0.7494\n",
      "Epoch 16/30\n",
      "25000/25000 [==============================] - 104s 4ms/step - loss: 0.4673 - acc: 0.7676 - val_loss: 0.5130 - val_acc: 0.7433\n",
      "Epoch 17/30\n",
      "25000/25000 [==============================] - 102s 4ms/step - loss: 0.4617 - acc: 0.7701 - val_loss: 0.5012 - val_acc: 0.7510\n",
      "Epoch 18/30\n",
      "25000/25000 [==============================] - 100s 4ms/step - loss: 0.4492 - acc: 0.7816 - val_loss: 0.4935 - val_acc: 0.7574\n",
      "Epoch 19/30\n",
      "25000/25000 [==============================] - 92s 4ms/step - loss: 0.4430 - acc: 0.7846 - val_loss: 0.5148 - val_acc: 0.7537\n",
      "Epoch 20/30\n",
      "25000/25000 [==============================] - 86s 3ms/step - loss: 0.4348 - acc: 0.7898 - val_loss: 0.4986 - val_acc: 0.7583\n",
      "Epoch 21/30\n",
      "25000/25000 [==============================] - 87s 3ms/step - loss: 0.4372 - acc: 0.7856 - val_loss: 0.4963 - val_acc: 0.7589\n",
      "Epoch 22/30\n",
      "25000/25000 [==============================] - 84s 3ms/step - loss: 0.4302 - acc: 0.7882 - val_loss: 0.4913 - val_acc: 0.7658\n",
      "Epoch 23/30\n",
      "25000/25000 [==============================] - 84s 3ms/step - loss: 0.4259 - acc: 0.7939 - val_loss: 0.4894 - val_acc: 0.7655\n",
      "Epoch 24/30\n",
      "25000/25000 [==============================] - 84s 3ms/step - loss: 0.4216 - acc: 0.7960 - val_loss: 0.4973 - val_acc: 0.7630\n",
      "Epoch 25/30\n",
      "25000/25000 [==============================] - 87s 3ms/step - loss: 0.4163 - acc: 0.8006 - val_loss: 0.4957 - val_acc: 0.7628\n",
      "Epoch 26/30\n",
      "25000/25000 [==============================] - 87s 3ms/step - loss: 0.4078 - acc: 0.8075 - val_loss: 0.4937 - val_acc: 0.7701\n",
      "Epoch 27/30\n",
      "25000/25000 [==============================] - 92s 4ms/step - loss: 0.4068 - acc: 0.8069 - val_loss: 0.5031 - val_acc: 0.7637\n",
      "Epoch 28/30\n",
      "25000/25000 [==============================] - 99s 4ms/step - loss: 0.4044 - acc: 0.8094 - val_loss: 0.4939 - val_acc: 0.7711\n",
      "Epoch 29/30\n",
      "25000/25000 [==============================] - 97s 4ms/step - loss: 0.4025 - acc: 0.8106 - val_loss: 0.5063 - val_acc: 0.7636\n",
      "Epoch 30/30\n",
      "25000/25000 [==============================] - 118s 5ms/step - loss: 0.3953 - acc: 0.8152 - val_loss: 0.5031 - val_acc: 0.7650\n"
     ]
    }
   ],
   "source": [
    "batch_size = 32\n",
    "\n",
    "history = model2.fit(x_train, \n",
    "                     y_train,\n",
    "                     batch_size=batch_size,\n",
    "                     epochs=30,\n",
    "                     validation_data=(x_test, y_test))"
   ]
  },
  {
   "cell_type": "code",
   "execution_count": 25,
   "metadata": {},
   "outputs": [],
   "source": [
    "h = history.history.copy()"
   ]
  },
  {
   "cell_type": "code",
   "execution_count": 26,
   "metadata": {},
   "outputs": [
    {
     "data": {
      "text/plain": [
       "[<matplotlib.lines.Line2D at 0x214be679c18>]"
      ]
     },
     "execution_count": 26,
     "metadata": {},
     "output_type": "execute_result"
    },
    {
     "data": {
      "image/png": "[encoded data removed]",
      "text/plain": [
       "<matplotlib.figure.Figure at 0x214be679cf8>"
      ]
     },
     "metadata": {},
     "output_type": "display_data"
    }
   ],
   "source": [
    "plt.plot(h['acc'])\n",
    "plt.plot(h['val_acc'])"
   ]
  },
  {
   "cell_type": "code",
   "execution_count": 27,
   "metadata": {},
   "outputs": [
    {
     "data": {
      "text/plain": [
       "[<matplotlib.lines.Line2D at 0x214c4cabba8>]"
      ]
     },
     "execution_count": 27,
     "metadata": {},
     "output_type": "execute_result"
    },
    {
     "data": {
      "image/png": "[encoded data removed]",
      "text/plain": [
       "<matplotlib.figure.Figure at 0x214c4cabb38>"
      ]
     },
     "metadata": {},
     "output_type": "display_data"
    }
   ],
   "source": [
    "plt.plot(h['loss'])\n",
    "plt.plot(h['val_loss'])"
   ]
  },
  {
   "cell_type": "code",
   "execution_count": 28,
   "metadata": {},
   "outputs": [
    {
     "name": "stdout",
     "output_type": "stream",
     "text": [
      "25000/25000 [==============================] - 20s 783us/step\n",
      "loss = 0.2697, acc = 88.85%\n"
     ]
    }
   ],
   "source": [
    "loss, acc = model2.evaluate(x_train, y_train)\n",
    "print('loss = %.4f, acc = %.2f%%' % (loss, acc * 100))"
   ]
  },
  {
   "cell_type": "code",
   "execution_count": 29,
   "metadata": {},
   "outputs": [
    {
     "name": "stdout",
     "output_type": "stream",
     "text": [
      "25000/25000 [==============================] - 24s 977us/step\n",
      "loss = 1.5241, acc = 80.13%\n"
     ]
    }
   ],
   "source": [
    "loss, acc = model.evaluate(x_test, y_test)\n",
    "print('loss = %.4f, acc = %.2f%%' % (loss, acc * 100))"
   ]
  },
  {
   "cell_type": "code",
   "execution_count": null,
   "metadata": {},
   "outputs": [],
   "source": []
  }
 ],
 "metadata": {
  "kernelspec": {
   "display_name": "Python 3",
   "language": "python",
   "name": "python3"
  },
  "language_info": {
   "codemirror_mode": {
    "name": "ipython",
    "version": 3
   },
   "file_extension": ".py",
   "mimetype": "text/x-python",
   "name": "python",
   "nbconvert_exporter": "python",
   "pygments_lexer": "ipython3",
   "version": "3.6.0"
  }
 },
 "nbformat": 4,
 "nbformat_minor": 2
}
